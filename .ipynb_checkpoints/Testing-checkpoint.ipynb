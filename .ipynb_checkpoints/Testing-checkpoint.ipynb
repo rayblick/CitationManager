{
 "cells": [
  {
   "cell_type": "code",
   "execution_count": 1,
   "metadata": {
    "collapsed": false
   },
   "outputs": [],
   "source": [
    "import bibtex.bibtex as bb\n",
    "cits = bb.Bibtex()\n",
    "cits.process_citations('data/train', 'txt')"
   ]
  },
  {
   "cell_type": "code",
   "execution_count": 2,
   "metadata": {
    "collapsed": false
   },
   "outputs": [
    {
     "name": "stdout",
     "output_type": "stream",
     "text": [
      "['Small Business Economics' 'Signs' 'Small Business Economics'\n",
      " 'Agenda: A Journal of Policy Analysis and Reform'\n",
      " 'Small Business Economics' 'Small Business Economics' 'Signs' 'Signs'\n",
      " 'Small Business Economics']\n"
     ]
    }
   ],
   "source": [
    "cits.predict_data('data/test', cits.original_words, 'journal')"
   ]
  },
  {
   "cell_type": "code",
   "execution_count": null,
   "metadata": {
    "collapsed": true
   },
   "outputs": [],
   "source": []
  }
 ],
 "metadata": {
  "kernelspec": {
   "display_name": "Python 3",
   "language": "python",
   "name": "python3"
  },
  "language_info": {
   "codemirror_mode": {
    "name": "ipython",
    "version": 3
   },
   "file_extension": ".py",
   "mimetype": "text/x-python",
   "name": "python",
   "nbconvert_exporter": "python",
   "pygments_lexer": "ipython3",
   "version": "3.4.3"
  }
 },
 "nbformat": 4,
 "nbformat_minor": 1
}
