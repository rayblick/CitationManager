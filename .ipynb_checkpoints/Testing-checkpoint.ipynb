{
 "cells": [
  {
   "cell_type": "code",
   "execution_count": 1,
   "metadata": {
    "collapsed": false,
    "scrolled": false
   },
   "outputs": [],
   "source": [
    "import bibtex.bibtex as bb\n",
    "cits = bb.Bibtex()\n",
    "cits.process_citations('data/train', 'txt')"
   ]
  },
  {
   "cell_type": "code",
   "execution_count": 2,
   "metadata": {
    "collapsed": false,
    "scrolled": true
   },
   "outputs": [
    {
     "name": "stdout",
     "output_type": "stream",
     "text": [
      "NB: the same doc format is assumed from the training data: txt\n"
     ]
    },
    {
     "data": {
      "text/html": [
       "<div>\n",
       "<table border=\"1\" class=\"dataframe\">\n",
       "  <thead>\n",
       "    <tr style=\"text-align: right;\">\n",
       "      <th></th>\n",
       "      <th>number</th>\n",
       "      <th>title</th>\n",
       "      <th>volume</th>\n",
       "      <th>author</th>\n",
       "      <th>pages</th>\n",
       "      <th>journal</th>\n",
       "      <th>URL</th>\n",
       "      <th>ISSN</th>\n",
       "      <th>abstract</th>\n",
       "      <th>year</th>\n",
       "      <th>publisher</th>\n",
       "      <th>predicted</th>\n",
       "    </tr>\n",
       "  </thead>\n",
       "  <tbody>\n",
       "    <tr>\n",
       "      <th>0</th>\n",
       "      <td>1</td>\n",
       "      <td>How can we detect introduced mammalian predato...</td>\n",
       "      <td>38</td>\n",
       "      <td>Georgina A. Pickerell and Colin F. J. O'Donnel...</td>\n",
       "      <td>86-102</td>\n",
       "      <td>New Zealand Journal of Ecology</td>\n",
       "      <td>http://www.jstor.org/stable/24060826</td>\n",
       "      <td>01106465, 11777788</td>\n",
       "      <td>Y</td>\n",
       "      <td>2014</td>\n",
       "      <td>New Zealand Ecological Society</td>\n",
       "      <td>New Zealand Journal of Ecology</td>\n",
       "    </tr>\n",
       "    <tr>\n",
       "      <th>1</th>\n",
       "      <td>1</td>\n",
       "      <td>Accepting Evolution</td>\n",
       "      <td>62</td>\n",
       "      <td>Anusuya Chinsamy and Éva Plagányi</td>\n",
       "      <td>248-254</td>\n",
       "      <td>Evolution</td>\n",
       "      <td>http://www.jstor.org/stable/4627133</td>\n",
       "      <td>00143820, 15585646</td>\n",
       "      <td>Y</td>\n",
       "      <td>2008</td>\n",
       "      <td>[Society for the Study of Evolution, Wiley]</td>\n",
       "      <td>Evolution</td>\n",
       "    </tr>\n",
       "    <tr>\n",
       "      <th>2</th>\n",
       "      <td>6</td>\n",
       "      <td>Museums Teach Evolution</td>\n",
       "      <td>61</td>\n",
       "      <td>Judy Diamond and E. Margaret Evans</td>\n",
       "      <td>1500-1506</td>\n",
       "      <td>Evolution</td>\n",
       "      <td>http://www.jstor.org/stable/4621393</td>\n",
       "      <td>00143820, 15585646</td>\n",
       "      <td>Y</td>\n",
       "      <td>2007</td>\n",
       "      <td>[Society for the Study of Evolution, Wiley]</td>\n",
       "      <td>Evolution</td>\n",
       "    </tr>\n",
       "    <tr>\n",
       "      <th>3</th>\n",
       "      <td>6</td>\n",
       "      <td>Toward an Anthropology of Computer-Mediated, A...</td>\n",
       "      <td>54</td>\n",
       "      <td>Eitan Wilf</td>\n",
       "      <td>716-739</td>\n",
       "      <td>Current Anthropology</td>\n",
       "      <td>http://www.jstor.org/stable/10.1086/673321</td>\n",
       "      <td>00113204, 15375382</td>\n",
       "      <td>Y</td>\n",
       "      <td>2013</td>\n",
       "      <td>[The University of Chicago Press, Wenner-Gren ...</td>\n",
       "      <td>Current Anthropology</td>\n",
       "    </tr>\n",
       "  </tbody>\n",
       "</table>\n",
       "</div>"
      ],
      "text/plain": [
       "  number                                              title volume  \\\n",
       "0      1  How can we detect introduced mammalian predato...     38   \n",
       "1      1                                Accepting Evolution     62   \n",
       "2      6                            Museums Teach Evolution     61   \n",
       "3      6  Toward an Anthropology of Computer-Mediated, A...     54   \n",
       "\n",
       "                                              author      pages  \\\n",
       "0  Georgina A. Pickerell and Colin F. J. O'Donnel...     86-102   \n",
       "1                  Anusuya Chinsamy and Éva Plagányi    248-254   \n",
       "2                 Judy Diamond and E. Margaret Evans  1500-1506   \n",
       "3                                         Eitan Wilf    716-739   \n",
       "\n",
       "                          journal                                         URL  \\\n",
       "0  New Zealand Journal of Ecology        http://www.jstor.org/stable/24060826   \n",
       "1                       Evolution         http://www.jstor.org/stable/4627133   \n",
       "2                       Evolution         http://www.jstor.org/stable/4621393   \n",
       "3            Current Anthropology  http://www.jstor.org/stable/10.1086/673321   \n",
       "\n",
       "                 ISSN abstract  year  \\\n",
       "0  01106465, 11777788        Y  2014   \n",
       "1  00143820, 15585646        Y  2008   \n",
       "2  00143820, 15585646        Y  2007   \n",
       "3  00113204, 15375382        Y  2013   \n",
       "\n",
       "                                           publisher  \\\n",
       "0                     New Zealand Ecological Society   \n",
       "1        [Society for the Study of Evolution, Wiley]   \n",
       "2        [Society for the Study of Evolution, Wiley]   \n",
       "3  [The University of Chicago Press, Wenner-Gren ...   \n",
       "\n",
       "                        predicted  \n",
       "0  New Zealand Journal of Ecology  \n",
       "1                       Evolution  \n",
       "2                       Evolution  \n",
       "3            Current Anthropology  "
      ]
     },
     "execution_count": 2,
     "metadata": {},
     "output_type": "execute_result"
    }
   ],
   "source": [
    "cits.predict_citation_label(pattern=\"original\")"
   ]
  },
  {
   "cell_type": "code",
   "execution_count": null,
   "metadata": {
    "collapsed": true
   },
   "outputs": [],
   "source": []
  }
 ],
 "metadata": {
  "kernelspec": {
   "display_name": "Python 3",
   "language": "python",
   "name": "python3"
  },
  "language_info": {
   "codemirror_mode": {
    "name": "ipython",
    "version": 3
   },
   "file_extension": ".py",
   "mimetype": "text/x-python",
   "name": "python",
   "nbconvert_exporter": "python",
   "pygments_lexer": "ipython3",
   "version": "3.4.3"
  }
 },
 "nbformat": 4,
 "nbformat_minor": 1
}
