{
 "cells": [
  {
   "cell_type": "code",
   "execution_count": 42,
   "metadata": {
    "collapsed": false,
    "scrolled": false
   },
   "outputs": [],
   "source": [
    "import bibtex.bibtex as bb\n",
    "cits = bb.Bibtex()\n",
    "cits.process_citations('data/train', 'txt')"
   ]
  },
  {
   "cell_type": "code",
   "execution_count": 43,
   "metadata": {
    "collapsed": false,
    "scrolled": true
   },
   "outputs": [
    {
     "name": "stdout",
     "output_type": "stream",
     "text": [
      "NB: the same doc format is assumed from the training data: txt\n"
     ]
    },
    {
     "data": {
      "text/html": [
       "<div>\n",
       "<table border=\"1\" class=\"dataframe\">\n",
       "  <thead>\n",
       "    <tr style=\"text-align: right;\">\n",
       "      <th></th>\n",
       "      <th>title</th>\n",
       "      <th>URL</th>\n",
       "      <th>journal</th>\n",
       "      <th>volume</th>\n",
       "      <th>author</th>\n",
       "      <th>ISSN</th>\n",
       "      <th>year</th>\n",
       "      <th>abstract</th>\n",
       "      <th>publisher</th>\n",
       "      <th>pages</th>\n",
       "      <th>number</th>\n",
       "      <th>predicted</th>\n",
       "    </tr>\n",
       "  </thead>\n",
       "  <tbody>\n",
       "    <tr>\n",
       "      <th>0</th>\n",
       "      <td>Toward an Anthropology of Computer-Mediated, A...</td>\n",
       "      <td>http://www.jstor.org/stable/10.1086/673321</td>\n",
       "      <td>Current Anthropology</td>\n",
       "      <td>54</td>\n",
       "      <td>Eitan Wilf</td>\n",
       "      <td>00113204, 15375382</td>\n",
       "      <td>2013</td>\n",
       "      <td>Y</td>\n",
       "      <td>[The University of Chicago Press, Wenner-Gren ...</td>\n",
       "      <td>716-739</td>\n",
       "      <td>6</td>\n",
       "      <td>Current Anthropology</td>\n",
       "    </tr>\n",
       "    <tr>\n",
       "      <th>1</th>\n",
       "      <td>Museums Teach Evolution</td>\n",
       "      <td>http://www.jstor.org/stable/4621393</td>\n",
       "      <td>Evolution</td>\n",
       "      <td>61</td>\n",
       "      <td>Judy Diamond and E. Margaret Evans</td>\n",
       "      <td>00143820, 15585646</td>\n",
       "      <td>2007</td>\n",
       "      <td>Y</td>\n",
       "      <td>[Society for the Study of Evolution, Wiley]</td>\n",
       "      <td>1500-1506</td>\n",
       "      <td>6</td>\n",
       "      <td>Evolution</td>\n",
       "    </tr>\n",
       "    <tr>\n",
       "      <th>2</th>\n",
       "      <td>Accepting Evolution</td>\n",
       "      <td>http://www.jstor.org/stable/4627133</td>\n",
       "      <td>Evolution</td>\n",
       "      <td>62</td>\n",
       "      <td>Anusuya Chinsamy and Éva Plagányi</td>\n",
       "      <td>00143820, 15585646</td>\n",
       "      <td>2008</td>\n",
       "      <td>Y</td>\n",
       "      <td>[Society for the Study of Evolution, Wiley]</td>\n",
       "      <td>248-254</td>\n",
       "      <td>1</td>\n",
       "      <td>Evolution</td>\n",
       "    </tr>\n",
       "    <tr>\n",
       "      <th>3</th>\n",
       "      <td>How can we detect introduced mammalian predato...</td>\n",
       "      <td>http://www.jstor.org/stable/24060826</td>\n",
       "      <td>New Zealand Journal of Ecology</td>\n",
       "      <td>38</td>\n",
       "      <td>Georgina A. Pickerell and Colin F. J. O'Donnel...</td>\n",
       "      <td>01106465, 11777788</td>\n",
       "      <td>2014</td>\n",
       "      <td>Y</td>\n",
       "      <td>New Zealand Ecological Society</td>\n",
       "      <td>86-102</td>\n",
       "      <td>1</td>\n",
       "      <td>New Zealand Journal of Ecology</td>\n",
       "    </tr>\n",
       "  </tbody>\n",
       "</table>\n",
       "</div>"
      ],
      "text/plain": [
       "                                               title  \\\n",
       "0  Toward an Anthropology of Computer-Mediated, A...   \n",
       "1                            Museums Teach Evolution   \n",
       "2                                Accepting Evolution   \n",
       "3  How can we detect introduced mammalian predato...   \n",
       "\n",
       "                                          URL                         journal  \\\n",
       "0  http://www.jstor.org/stable/10.1086/673321            Current Anthropology   \n",
       "1         http://www.jstor.org/stable/4621393                       Evolution   \n",
       "2         http://www.jstor.org/stable/4627133                       Evolution   \n",
       "3        http://www.jstor.org/stable/24060826  New Zealand Journal of Ecology   \n",
       "\n",
       "  volume                                             author  \\\n",
       "0     54                                         Eitan Wilf   \n",
       "1     61                 Judy Diamond and E. Margaret Evans   \n",
       "2     62                  Anusuya Chinsamy and Éva Plagányi   \n",
       "3     38  Georgina A. Pickerell and Colin F. J. O'Donnel...   \n",
       "\n",
       "                 ISSN  year abstract  \\\n",
       "0  00113204, 15375382  2013        Y   \n",
       "1  00143820, 15585646  2007        Y   \n",
       "2  00143820, 15585646  2008        Y   \n",
       "3  01106465, 11777788  2014        Y   \n",
       "\n",
       "                                           publisher      pages number  \\\n",
       "0  [The University of Chicago Press, Wenner-Gren ...    716-739      6   \n",
       "1        [Society for the Study of Evolution, Wiley]  1500-1506      6   \n",
       "2        [Society for the Study of Evolution, Wiley]    248-254      1   \n",
       "3                     New Zealand Ecological Society     86-102      1   \n",
       "\n",
       "                        predicted  \n",
       "0            Current Anthropology  \n",
       "1                       Evolution  \n",
       "2                       Evolution  \n",
       "3  New Zealand Journal of Ecology  "
      ]
     },
     "execution_count": 43,
     "metadata": {},
     "output_type": "execute_result"
    }
   ],
   "source": [
    "cits.predict_citation_label(pattern=\"original\")"
   ]
  }
 ],
 "metadata": {
  "kernelspec": {
   "display_name": "Python 3",
   "language": "python",
   "name": "python3"
  },
  "language_info": {
   "codemirror_mode": {
    "name": "ipython",
    "version": 3
   },
   "file_extension": ".py",
   "mimetype": "text/x-python",
   "name": "python",
   "nbconvert_exporter": "python",
   "pygments_lexer": "ipython3",
   "version": "3.4.3"
  }
 },
 "nbformat": 4,
 "nbformat_minor": 1
}
